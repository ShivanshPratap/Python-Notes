{
 "cells": [
  {
   "cell_type": "markdown",
   "id": "e65af50c",
   "metadata": {},
   "source": [
    "### Introduction to Regular Expressions:\n",
    "Regular expressions are sequences of characters used to define search patterns. They are widely used in text processing to find, match, and manipulate strings based on specific patterns."
   ]
  },
  {
   "cell_type": "markdown",
   "id": "ac7eb6d3",
   "metadata": {},
   "source": [
    "### Basic Syntax:\n",
    "In Python, regular expressions are supported through the re module. To use it, you need to import the module first: import re. The re module provides functions and methods for working with regular expressions."
   ]
  },
  {
   "cell_type": "markdown",
   "id": "33f3bb5f",
   "metadata": {},
   "source": [
    "### Matching Patterns:\n",
    "The most basic operation in regex is matching patterns. The re.match() function is used to check if a pattern matches at the beginning of a string. For example:"
   ]
  },
  {
   "cell_type": "code",
   "execution_count": 19,
   "id": "bf59c89e",
   "metadata": {},
   "outputs": [
    {
     "name": "stdout",
     "output_type": "stream",
     "text": [
      "Match found!\n"
     ]
    }
   ],
   "source": [
    "import re\n",
    "\n",
    "pattern = r\"hello\"\n",
    "string = \"hello world\"\n",
    "\n",
    "if re.match(pattern, string):\n",
    "    print(\"Match found!\")\n",
    "else:\n",
    "    print(\"Match not found.\")"
   ]
  },
  {
   "cell_type": "markdown",
   "id": "91f0c000",
   "metadata": {},
   "source": [
    "### Searching Patterns:\n",
    "The re.search() function is used to search for a pattern anywhere in a string. It returns the first occurrence of the pattern. For example:"
   ]
  },
  {
   "cell_type": "code",
   "execution_count": 31,
   "id": "d2acbe96",
   "metadata": {},
   "outputs": [
    {
     "name": "stdout",
     "output_type": "stream",
     "text": [
      "Match found!\n"
     ]
    }
   ],
   "source": [
    "import re\n",
    "\n",
    "pattern = r\"world\"\n",
    "string = \"hello world\"\n",
    "\n",
    "if re.search(pattern, string):\n",
    "    print(\"Match found!\")\n",
    "else:\n",
    "    print(\"Match not found.\")"
   ]
  },
  {
   "cell_type": "markdown",
   "id": "7ecc88fd",
   "metadata": {},
   "source": [
    "### Pattern Modifiers:\n",
    "Regex supports various modifiers to refine pattern matching. Some commonly used modifiers are:\n",
    "\n",
    "* re.I or re.IGNORECASE: Ignore case when matching.\n",
    "* re.M or re.MULTILINE: Make the pattern match across multiple lines.\n",
    "* re.S or re.DOTALL: Make the dot character (.) match any character, including newlines.\n",
    "\n",
    "These modifiers can be passed as flags to the regex functions. For example:"
   ]
  },
  {
   "cell_type": "code",
   "execution_count": 30,
   "id": "dbf233e0",
   "metadata": {},
   "outputs": [
    {
     "name": "stdout",
     "output_type": "stream",
     "text": [
      "Match found!\n"
     ]
    }
   ],
   "source": [
    "import re\n",
    "\n",
    "pattern = r\"hello\"\n",
    "string = \"HELLO world\"\n",
    "\n",
    "if re.search(pattern, string, re.IGNORECASE):\n",
    "    print(\"Match found!\")\n",
    "else:\n",
    "    print(\"Match not found.\")"
   ]
  },
  {
   "cell_type": "markdown",
   "id": "ee721c02",
   "metadata": {},
   "source": [
    "### Character Classes:\n",
    "Character classes allow you to specify a set of characters to match. Some commonly used character classes are:\n",
    "\n",
    "* [abc]: Matches either 'a', 'b', or 'c'.\n",
    "* [0-9]: Matches any digit.\n",
    "* [a-zA-Z]: Matches any lowercase or uppercase letter.\n",
    "\n",
    "For example:"
   ]
  },
  {
   "cell_type": "code",
   "execution_count": 29,
   "id": "4ae5000e",
   "metadata": {},
   "outputs": [
    {
     "name": "stdout",
     "output_type": "stream",
     "text": [
      "['e', 'o', 'o']\n"
     ]
    }
   ],
   "source": [
    "import re\n",
    "\n",
    "pattern = r\"[aeiou]\"\n",
    "string = \"hello world\"\n",
    "\n",
    "matches = re.findall(pattern, string)\n",
    "print(matches)  # Output: ['e', 'o', 'o']"
   ]
  },
  {
   "cell_type": "markdown",
   "id": "203e55d4",
   "metadata": {},
   "source": [
    "### Quantifiers:\n",
    "Quantifiers allow you to specify how many times a pattern should occur. Some commonly used quantifiers are:\n",
    "\n",
    "* *: Matches zero or more occurrences.\n",
    "* +: Matches one or more occurrences.\n",
    "* ?: Matches zero or one occurrence.\n",
    "* {n}: Matches exactly n occurrences.\n",
    "* {n,}: Matches at least n occurrences.\n",
    "* {n,m}: Matches between n and m occurrences."
   ]
  },
  {
   "cell_type": "code",
   "execution_count": 28,
   "id": "5885fdfb",
   "metadata": {},
   "outputs": [
    {
     "name": "stdout",
     "output_type": "stream",
     "text": [
      "['a', 'a', 'ab', 'abb', 'abbb']\n"
     ]
    }
   ],
   "source": [
    "import re\n",
    "\n",
    "pattern = r\"ab*\"\n",
    "string = \"aa ab abb abbb\"\n",
    "\n",
    "matches = re.findall(pattern, string)\n",
    "print(matches)  # Output: ['a', 'ab', 'abb', 'abbb']"
   ]
  },
  {
   "cell_type": "markdown",
   "id": "42d06bb5",
   "metadata": {},
   "source": [
    "### Grouping and Capturing:\n",
    "You can use parentheses to group parts of a pattern and capture the matched text. For example:"
   ]
  },
  {
   "cell_type": "code",
   "execution_count": 27,
   "id": "25cf02ac",
   "metadata": {},
   "outputs": [
    {
     "name": "stdout",
     "output_type": "stream",
     "text": [
      "['ab', 'ac', 'ad']\n"
     ]
    }
   ],
   "source": [
    "import re\n",
    "\n",
    "pattern = r\"(a[bcd])\\1\"\n",
    "string = \"abab acac adad\"\n",
    "\n",
    "matches = re.findall(pattern, string)\n",
    "print(matches)  # Output: ['ab', 'ac', 'ad']"
   ]
  },
  {
   "cell_type": "markdown",
   "id": "6882b3ee",
   "metadata": {},
   "source": [
    "### Special Sequences:\n",
    "Regex provides special sequences that match specific types of characters. Some commonly used special sequences are:\n",
    "\n",
    "* \\d: Matches any digit.\n",
    "* \\D: Matches any non-digit character.\n",
    "* \\w: Matches any alphanumeric character.\n",
    "* \\W: Matches any non-alphanumeric character.\n",
    "* \\s: Matches any whitespace character.\n",
    "* \\S: Matches any non-whitespace character.\n",
    "\n",
    "For example:"
   ]
  },
  {
   "cell_type": "code",
   "execution_count": 26,
   "id": "54466064",
   "metadata": {},
   "outputs": [
    {
     "name": "stdout",
     "output_type": "stream",
     "text": [
      "['Hello', 'world']\n"
     ]
    }
   ],
   "source": [
    "import re\n",
    "\n",
    "pattern = r\"\\b\\w+\\b\"\n",
    "string = \"Hello, world!\"\n",
    "\n",
    "matches = re.findall(pattern, string)\n",
    "print(matches)  # Output: ['Hello', 'world']"
   ]
  },
  {
   "cell_type": "markdown",
   "id": "3b7be652",
   "metadata": {},
   "source": [
    "### Replacement and Substitution:\n",
    "You can use regex to replace matched patterns in a string. The re.sub() function is used for substitution. For example:"
   ]
  },
  {
   "cell_type": "code",
   "execution_count": 32,
   "id": "a84869fa",
   "metadata": {},
   "outputs": [
    {
     "name": "stdout",
     "output_type": "stream",
     "text": [
      "hello Python\n"
     ]
    }
   ],
   "source": [
    "import re\n",
    "\n",
    "pattern = r\"world\"\n",
    "string = \"hello world\"\n",
    "\n",
    "new_string = re.sub(pattern, \"Python\", string)\n",
    "print(new_string)  # Output: \"hello Python\""
   ]
  },
  {
   "cell_type": "markdown",
   "id": "e31d3fa0",
   "metadata": {},
   "source": [
    "### Splitting Strings:\n",
    "You can split strings based on regex patterns using the re.split() function. For example:"
   ]
  },
  {
   "cell_type": "code",
   "execution_count": 34,
   "id": "1b567ba8",
   "metadata": {},
   "outputs": [
    {
     "name": "stdout",
     "output_type": "stream",
     "text": [
      "['hello', 'world']\n"
     ]
    }
   ],
   "source": [
    "import re\n",
    "\n",
    "pattern = r\"\\s\"\n",
    "string = \"hello world\"\n",
    "\n",
    "parts = re.split(pattern, string)\n",
    "print(parts)  # Output: ['hello', 'world']"
   ]
  },
  {
   "cell_type": "markdown",
   "id": "22f6f233",
   "metadata": {},
   "source": [
    "### Anchors:\n",
    "Anchors allow you to match patterns at specific positions in a string. Some commonly used anchors are:\n",
    "\n",
    "* ^: Matches at the beginning of a string.\n",
    "* $: Matches at the end of a string.\n",
    "* \\b: Matches at a word boundary.\n",
    "\n",
    "For example:"
   ]
  },
  {
   "cell_type": "code",
   "execution_count": 35,
   "id": "cb7821d6",
   "metadata": {},
   "outputs": [
    {
     "name": "stdout",
     "output_type": "stream",
     "text": [
      "Match found!\n"
     ]
    }
   ],
   "source": [
    "import re\n",
    "\n",
    "pattern = r\"^hello\"\n",
    "string = \"hello world\"\n",
    "\n",
    "if re.search(pattern, string):\n",
    "    print(\"Match found!\")\n",
    "else:\n",
    "    print(\"Match not found.\")"
   ]
  },
  {
   "cell_type": "markdown",
   "id": "0b298af1",
   "metadata": {},
   "source": [
    "### Match Objects:\n",
    "When using the re.search() or re.match() functions, a match object is returned if a match is found. The match object contains information about the match and provides various methods and attributes to access that information. For example:"
   ]
  },
  {
   "cell_type": "code",
   "execution_count": 36,
   "id": "39575890",
   "metadata": {},
   "outputs": [
    {
     "name": "stdout",
     "output_type": "stream",
     "text": [
      "Match found!\n",
      "Match start: 6\n",
      "Match end: 11\n",
      "Match span: (6, 11)\n",
      "Match group: world\n"
     ]
    }
   ],
   "source": [
    "import re\n",
    "\n",
    "pattern = r\"world\"\n",
    "string = \"hello world\"\n",
    "\n",
    "match = re.search(pattern, string)\n",
    "if match:\n",
    "    print(\"Match found!\")\n",
    "    print(\"Match start:\", match.start())\n",
    "    print(\"Match end:\", match.end())\n",
    "    print(\"Match span:\", match.span())\n",
    "    print(\"Match group:\", match.group())\n",
    "else:\n",
    "    print(\"Match not found.\")"
   ]
  },
  {
   "cell_type": "markdown",
   "id": "f1463f4d",
   "metadata": {},
   "source": [
    "### Raw Strings:\n",
    "Regular expressions often contain backslashes, which are special characters in Python strings. To treat a string as a raw string and interpret backslashes literally, you can prefix it with an 'r'. For example:"
   ]
  },
  {
   "cell_type": "code",
   "execution_count": 37,
   "id": "b4eac623",
   "metadata": {},
   "outputs": [
    {
     "name": "stdout",
     "output_type": "stream",
     "text": [
      "12345\n"
     ]
    }
   ],
   "source": [
    "import re\n",
    "\n",
    "pattern = r\"\\d+\"\n",
    "string = \"12345\"\n",
    "\n",
    "match = re.search(pattern, string)\n",
    "print(match.group())  # Output: \"12345\""
   ]
  },
  {
   "cell_type": "markdown",
   "id": "36ecb145",
   "metadata": {},
   "source": [
    "### Greedy and Non-Greedy Matches:\n",
    "By default, regular expressions use greedy matching, which means they try to match as much as possible. To make a match non-greedy, you can use the ? modifier after a quantifier. For example:"
   ]
  },
  {
   "cell_type": "code",
   "execution_count": 38,
   "id": "eb1042bc",
   "metadata": {},
   "outputs": [
    {
     "name": "stdout",
     "output_type": "stream",
     "text": [
      "['<p>', '</p>', '<p>', '</p>']\n"
     ]
    }
   ],
   "source": [
    "import re\n",
    "\n",
    "pattern = r\"<.*?>\"\n",
    "string = \"<p>Hello</p><p>World</p>\"\n",
    "\n",
    "matches = re.findall(pattern, string)\n",
    "print(matches)  # Output: ['<p>', '</p>', '<p>', '</p>']"
   ]
  },
  {
   "cell_type": "markdown",
   "id": "27cf1775",
   "metadata": {},
   "source": [
    "### Lookahead and Lookbehind:\n",
    "Lookahead and lookbehind assertions allow you to specify patterns that must be followed or preceded by another pattern without including them in the match. Lookahead is denoted by (?=...), and lookbehind is denoted by (?<=...) or (?<!...). For example:"
   ]
  },
  {
   "cell_type": "code",
   "execution_count": 39,
   "id": "90d28f54",
   "metadata": {},
   "outputs": [
    {
     "ename": "AttributeError",
     "evalue": "'NoneType' object has no attribute 'group'",
     "output_type": "error",
     "traceback": [
      "\u001b[1;31m---------------------------------------------------------------------------\u001b[0m",
      "\u001b[1;31mAttributeError\u001b[0m                            Traceback (most recent call last)",
      "\u001b[1;32m~\\AppData\\Local\\Temp\\ipykernel_8312\\2029674301.py\u001b[0m in \u001b[0;36m<module>\u001b[1;34m\u001b[0m\n\u001b[0;32m      5\u001b[0m \u001b[1;33m\u001b[0m\u001b[0m\n\u001b[0;32m      6\u001b[0m \u001b[0mmatch\u001b[0m \u001b[1;33m=\u001b[0m \u001b[0mre\u001b[0m\u001b[1;33m.\u001b[0m\u001b[0msearch\u001b[0m\u001b[1;33m(\u001b[0m\u001b[0mpattern\u001b[0m\u001b[1;33m,\u001b[0m \u001b[0mstring\u001b[0m\u001b[1;33m)\u001b[0m\u001b[1;33m\u001b[0m\u001b[1;33m\u001b[0m\u001b[0m\n\u001b[1;32m----> 7\u001b[1;33m \u001b[0mprint\u001b[0m\u001b[1;33m(\u001b[0m\u001b[0mmatch\u001b[0m\u001b[1;33m.\u001b[0m\u001b[0mgroup\u001b[0m\u001b[1;33m(\u001b[0m\u001b[1;33m)\u001b[0m\u001b[1;33m)\u001b[0m  \u001b[1;31m# Output: \"Python\"\u001b[0m\u001b[1;33m\u001b[0m\u001b[1;33m\u001b[0m\u001b[0m\n\u001b[0m",
      "\u001b[1;31mAttributeError\u001b[0m: 'NoneType' object has no attribute 'group'"
     ]
    }
   ],
   "source": [
    "import re\n",
    "\n",
    "pattern = r\"\\w+(?=\\spython)\"\n",
    "string = \"I love Python programming\"\n",
    "\n",
    "match = re.search(pattern, string)\n",
    "print(match.group())  # Output: \"Python\""
   ]
  },
  {
   "cell_type": "markdown",
   "id": "4356225a",
   "metadata": {},
   "source": [
    "### Flags:\n",
    "Flags provide additional options for pattern matching. They can be passed as arguments to the regex functions or embedded within the pattern using (?...) syntax. Some commonly used flags are:\n",
    "\n",
    "* re.IGNORECASE or re.I: Ignore case when matching.\n",
    "* re.MULTILINE or re.M: Make the pattern match across multiple lines.\n",
    "* re.DOTALL or re.S: Make the dot character (.) match any character, including newlines.\n",
    "* re.VERBOSE or re.X: Allow multiline patterns with comments and whitespace.\n",
    "\n",
    "For example:"
   ]
  },
  {
   "cell_type": "code",
   "execution_count": 40,
   "id": "7c031f34",
   "metadata": {},
   "outputs": [
    {
     "name": "stdout",
     "output_type": "stream",
     "text": [
      "Match found!\n"
     ]
    }
   ],
   "source": [
    "import re\n",
    "\n",
    "pattern = r\"\"\"\n",
    "    hello     # Match 'hello'\n",
    "    \\s+       # Match one or more whitespace characters\n",
    "    world     # Match 'world'\n",
    "\"\"\"\n",
    "string = \"Hello     world\"\n",
    "\n",
    "match = re.search(pattern, string, re.IGNORECASE | re.VERBOSE)\n",
    "if match:\n",
    "    print(\"Match found!\")\n",
    "else:\n",
    "    print(\"Match not found.\")"
   ]
  },
  {
   "cell_type": "markdown",
   "id": "bad6c607",
   "metadata": {},
   "source": [
    "### Backreferences:\n",
    "Backreferences allow you to refer to captured groups within the pattern itself. You can use \\1, \\2, etc., to refer to the first, second, etc., captured group. For example:"
   ]
  },
  {
   "cell_type": "code",
   "execution_count": 42,
   "id": "4e2003dd",
   "metadata": {},
   "outputs": [
    {
     "name": "stdout",
     "output_type": "stream",
     "text": [
      "Match found!\n"
     ]
    }
   ],
   "source": [
    "import re\n",
    "\n",
    "pattern = r\"(\\w+) \\1\"\n",
    "string = \"hello hello\"\n",
    "\n",
    "match = re.search(pattern, string)\n",
    "if match:\n",
    "    print(\"Match found!\")\n",
    "else:\n",
    "    print(\"Match not found.\")"
   ]
  },
  {
   "cell_type": "markdown",
   "id": "2be0ceb8",
   "metadata": {},
   "source": [
    "### Compiled Regular Expressions:\n",
    "In addition to using regex functions directly, you can also compile regular expressions into pattern objects for better performance when reusing the same pattern multiple times. This can be done using the re.compile() function. For example:"
   ]
  },
  {
   "cell_type": "code",
   "execution_count": 43,
   "id": "351baebb",
   "metadata": {},
   "outputs": [
    {
     "name": "stdout",
     "output_type": "stream",
     "text": [
      "Match found!\n"
     ]
    }
   ],
   "source": [
    "import re\n",
    "\n",
    "pattern = re.compile(r\"hello\")\n",
    "string = \"hello world\"\n",
    "\n",
    "match = pattern.search(string)\n",
    "if match:\n",
    "    print(\"Match found!\")\n",
    "else:\n",
    "    print(\"Match not found.\")"
   ]
  },
  {
   "cell_type": "code",
   "execution_count": null,
   "id": "9cde4177",
   "metadata": {},
   "outputs": [],
   "source": []
  }
 ],
 "metadata": {
  "kernelspec": {
   "display_name": "Python 3 (ipykernel)",
   "language": "python",
   "name": "python3"
  },
  "language_info": {
   "codemirror_mode": {
    "name": "ipython",
    "version": 3
   },
   "file_extension": ".py",
   "mimetype": "text/x-python",
   "name": "python",
   "nbconvert_exporter": "python",
   "pygments_lexer": "ipython3",
   "version": "3.9.13"
  }
 },
 "nbformat": 4,
 "nbformat_minor": 5
}
