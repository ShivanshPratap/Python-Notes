{
 "cells": [
  {
   "cell_type": "markdown",
   "id": "f5421ae7",
   "metadata": {},
   "source": [
    "To begin, make sure you have the csv module installed. If you're using Python 3, it should already be available in the standard library.\n",
    "\n",
    "Here are the steps to read, parse, and write CSV files:\n",
    "\n",
    "## Step 1: Import the csv module"
   ]
  },
  {
   "cell_type": "code",
   "execution_count": 1,
   "id": "a362c4c8",
   "metadata": {},
   "outputs": [],
   "source": [
    "import csv"
   ]
  },
  {
   "cell_type": "markdown",
   "id": "771047c9",
   "metadata": {},
   "source": [
    "## Step 2: Reading CSV Files\n",
    "\n",
    "To read a CSV file, you need to open it using the 'open()' function and pass the file path as an argument.\n",
    "Then, use the 'csv.reader' function to create a reader object, which allows you to iterate over the rows of the CSV file."
   ]
  },
  {
   "cell_type": "code",
   "execution_count": null,
   "id": "12748d22",
   "metadata": {},
   "outputs": [],
   "source": [
    "with open('file.csv', 'r') as file:\n",
    "    reader = csv.reader(file)\n",
    "    \n",
    "    for row in reader:\n",
    "        # Process each row\n",
    "        print(row)"
   ]
  },
  {
   "cell_type": "markdown",
   "id": "c6188ae2",
   "metadata": {},
   "source": [
    "In the example above, the file.csv file is opened in read mode ('r'), and each row is printed. \n",
    "You can replace the print(row) statement with your desired processing logic."
   ]
  },
  {
   "cell_type": "markdown",
   "id": "432731d5",
   "metadata": {},
   "source": [
    "## Step 3: Parsing CSV Files"
   ]
  },
  {
   "cell_type": "markdown",
   "id": "10c46ed7",
   "metadata": {},
   "source": [
    "Sometimes, CSV files have headers that describe the columns. To parse a CSV file with headers,\n",
    "you can use the csv.DictReader class. \n",
    "It reads each row as an ordered dictionary with the headers as keys."
   ]
  },
  {
   "cell_type": "code",
   "execution_count": null,
   "id": "f9faef2e",
   "metadata": {},
   "outputs": [],
   "source": [
    "with open('file.csv', 'r') as file:\n",
    "    reader = csv.DictReader(file)\n",
    "    \n",
    "    for row in reader:\n",
    "        # Access values using the header keys\n",
    "        print(row['header1'], row['header2'])"
   ]
  },
  {
   "cell_type": "markdown",
   "id": "fc1733ac",
   "metadata": {},
   "source": [
    "In this example, you can access the values in each row using the header keys, such as row['header1'] and row['header2'].\n",
    "Again, you can replace the print() statement with your desired processing logic."
   ]
  },
  {
   "cell_type": "code",
   "execution_count": 3,
   "id": "7e3ca9d9",
   "metadata": {},
   "outputs": [],
   "source": [
    "data = [\n",
    "    ['John', 'Doe', 25],\n",
    "    ['Jane', 'Smith', 30],\n",
    "    ['Bob', 'Johnson', 45]\n",
    "]\n",
    "\n",
    "with open('file.csv', 'w', newline='') as file:\n",
    "    writer = csv.writer(file)\n",
    "    \n",
    "    for row in data:\n",
    "        writer.writerow(row)"
   ]
  },
  {
   "cell_type": "code",
   "execution_count": null,
   "id": "ae2ee3ca",
   "metadata": {},
   "outputs": [],
   "source": [
    "In this example, the data list contains the rows to be written to the CSV file. \n",
    "Each row is a list, and writer.writerow(row) writes each row to the file.\n",
    "Make sure to open the file with the newline='' parameter to avoid extra blank lines in the output file."
   ]
  },
  {
   "cell_type": "code",
   "execution_count": null,
   "id": "8d2f602a",
   "metadata": {},
   "outputs": [],
   "source": []
  },
  {
   "cell_type": "markdown",
   "id": "c66e1089",
   "metadata": {},
   "source": [
    "## Print a CSV File"
   ]
  },
  {
   "cell_type": "markdown",
   "id": "f463a62b",
   "metadata": {},
   "source": [
    "If you would like to print the contents of a CSV file instead of processing it row by row, \n",
    "you can modify the code to read the file and store the rows in a list, and then print the list. Here's an example:"
   ]
  },
  {
   "cell_type": "code",
   "execution_count": null,
   "id": "b608e985",
   "metadata": {},
   "outputs": [],
   "source": [
    "import csv\n",
    "\n",
    "def print_csv_file(file_path):\n",
    "    with open(file_path, 'r') as file:\n",
    "        reader = csv.reader(file)\n",
    "        rows = list(reader)\n",
    "    \n",
    "    # next(reader) :to skip the first line/row and get the value\n",
    "    \n",
    "    for row in rows:\n",
    "        print(row)\n",
    "        \n",
    " '''   with open('new_file.csv','w') as n_f:\n",
    "        csv_writer =csv.writer(new_file, delimiter='-')\n",
    "        \n",
    "        for line in reader:\n",
    "            csv_writer.writerow(line)'''"
   ]
  },
  {
   "cell_type": "markdown",
   "id": "f8012f4f",
   "metadata": {},
   "source": [
    "### Write to a CSV"
   ]
  },
  {
   "cell_type": "code",
   "execution_count": null,
   "id": "d74848b3",
   "metadata": {},
   "outputs": [],
   "source": [
    "  with open('new_names.csv', 'w') as new_file:\n",
    "        fieldnames = ['first_name', 'last_name']\n",
    "\n",
    "        csv_writer = csv.DictWriter(new_file, fieldnames=fieldnames, delimiter='\\t')\n",
    "\n",
    "        csv_writer.writeheader()\n",
    "\n",
    "#Delete a row in a csv        \n",
    "        \n",
    "        for line in csv_reader:\n",
    "            del line['email']\n",
    "            csv_writer.writerow(line)"
   ]
  },
  {
   "cell_type": "markdown",
   "id": "e9b1335c",
   "metadata": {},
   "source": [
    "In this code, the CSV file is read using the csv.reader function and stored in the rows list. \n",
    "Then, each row is printed using a loop. You can call the print_csv_file() function and\n",
    "pass the file path as an argument to print the CSV file.\n",
    "\n",
    "For example, if you have a file named data.csv in the same directory as your Python script,\n",
    "you can print its contents like this:"
   ]
  },
  {
   "cell_type": "code",
   "execution_count": null,
   "id": "d7a650d7",
   "metadata": {},
   "outputs": [],
   "source": [
    "print_csv_file('data.csv')"
   ]
  },
  {
   "cell_type": "code",
   "execution_count": null,
   "id": "4de9b198",
   "metadata": {},
   "outputs": [],
   "source": []
  },
  {
   "cell_type": "code",
   "execution_count": null,
   "id": "55b908ec",
   "metadata": {},
   "outputs": [],
   "source": [
    "import csv\n",
    "\n",
    "html_output = ''\n",
    "names = []\n",
    "\n",
    "with open('patrons.csv', 'r') as data_file:\n",
    "    csv_data = csv.DictReader(data_file)\n",
    "\n",
    "    # We don't want first line of bad data\n",
    "    next(csv_data)\n",
    "\n",
    "    for line in csv_data:\n",
    "        if line['FirstName'] == 'No Reward':\n",
    "            break\n",
    "        names.append(f\"{line['FirstName']} {line['LastName']}\")\n",
    "\n",
    "html_output += f'<p>There are currently {len(names)} public contributors. Thank You!</p>'\n",
    "\n",
    "html_output += '\\n<ul>'\n",
    "\n",
    "for name in names:\n",
    "    html_output += f'\\n\\t<li>{name}</li>'\n",
    "\n",
    "html_output += '\\n</ul>'\n",
    "\n",
    "print(html_output)"
   ]
  }
 ],
 "metadata": {
  "kernelspec": {
   "display_name": "Python 3 (ipykernel)",
   "language": "python",
   "name": "python3"
  },
  "language_info": {
   "codemirror_mode": {
    "name": "ipython",
    "version": 3
   },
   "file_extension": ".py",
   "mimetype": "text/x-python",
   "name": "python",
   "nbconvert_exporter": "python",
   "pygments_lexer": "ipython3",
   "version": "3.9.13"
  }
 },
 "nbformat": 4,
 "nbformat_minor": 5
}
